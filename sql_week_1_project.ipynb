{
  "nbformat": 4,
  "nbformat_minor": 0,
  "metadata": {
    "colab": {
      "provenance": []
    },
    "kernelspec": {
      "name": "python3",
      "display_name": "Python 3"
    },
    "language_info": {
      "name": "python"
    }
  },
  "cells": [
    {
      "cell_type": "code",
      "execution_count": 1,
      "metadata": {
        "colab": {
          "base_uri": "https://localhost:8080/"
        },
        "id": "KvAagCMplqQO",
        "outputId": "d8bf33b0-ab5a-4ba8-f9a9-5acd9110d857"
      },
      "outputs": [
        {
          "output_type": "stream",
          "name": "stdout",
          "text": [
            "Requirement already satisfied: ipython-sql in /usr/local/lib/python3.10/dist-packages (0.5.0)\n",
            "Requirement already satisfied: prettytable in /usr/local/lib/python3.10/dist-packages (from ipython-sql) (3.9.0)\n",
            "Requirement already satisfied: ipython in /usr/local/lib/python3.10/dist-packages (from ipython-sql) (7.34.0)\n",
            "Requirement already satisfied: sqlalchemy>=2.0 in /usr/local/lib/python3.10/dist-packages (from ipython-sql) (2.0.27)\n",
            "Requirement already satisfied: sqlparse in /usr/local/lib/python3.10/dist-packages (from ipython-sql) (0.4.4)\n",
            "Requirement already satisfied: six in /usr/local/lib/python3.10/dist-packages (from ipython-sql) (1.16.0)\n",
            "Requirement already satisfied: ipython-genutils in /usr/local/lib/python3.10/dist-packages (from ipython-sql) (0.2.0)\n",
            "Requirement already satisfied: typing-extensions>=4.6.0 in /usr/local/lib/python3.10/dist-packages (from sqlalchemy>=2.0->ipython-sql) (4.9.0)\n",
            "Requirement already satisfied: greenlet!=0.4.17 in /usr/local/lib/python3.10/dist-packages (from sqlalchemy>=2.0->ipython-sql) (3.0.3)\n",
            "Requirement already satisfied: setuptools>=18.5 in /usr/local/lib/python3.10/dist-packages (from ipython->ipython-sql) (67.7.2)\n",
            "Collecting jedi>=0.16 (from ipython->ipython-sql)\n",
            "  Downloading jedi-0.19.1-py2.py3-none-any.whl (1.6 MB)\n",
            "\u001b[2K     \u001b[90m━━━━━━━━━━━━━━━━━━━━━━━━━━━━━━━━━━━━━━━━\u001b[0m \u001b[32m1.6/1.6 MB\u001b[0m \u001b[31m24.4 MB/s\u001b[0m eta \u001b[36m0:00:00\u001b[0m\n",
            "\u001b[?25hRequirement already satisfied: decorator in /usr/local/lib/python3.10/dist-packages (from ipython->ipython-sql) (4.4.2)\n",
            "Requirement already satisfied: pickleshare in /usr/local/lib/python3.10/dist-packages (from ipython->ipython-sql) (0.7.5)\n",
            "Requirement already satisfied: traitlets>=4.2 in /usr/local/lib/python3.10/dist-packages (from ipython->ipython-sql) (5.7.1)\n",
            "Requirement already satisfied: prompt-toolkit!=3.0.0,!=3.0.1,<3.1.0,>=2.0.0 in /usr/local/lib/python3.10/dist-packages (from ipython->ipython-sql) (3.0.43)\n",
            "Requirement already satisfied: pygments in /usr/local/lib/python3.10/dist-packages (from ipython->ipython-sql) (2.16.1)\n",
            "Requirement already satisfied: backcall in /usr/local/lib/python3.10/dist-packages (from ipython->ipython-sql) (0.2.0)\n",
            "Requirement already satisfied: matplotlib-inline in /usr/local/lib/python3.10/dist-packages (from ipython->ipython-sql) (0.1.6)\n",
            "Requirement already satisfied: pexpect>4.3 in /usr/local/lib/python3.10/dist-packages (from ipython->ipython-sql) (4.9.0)\n",
            "Requirement already satisfied: wcwidth in /usr/local/lib/python3.10/dist-packages (from prettytable->ipython-sql) (0.2.13)\n",
            "Requirement already satisfied: parso<0.9.0,>=0.8.3 in /usr/local/lib/python3.10/dist-packages (from jedi>=0.16->ipython->ipython-sql) (0.8.3)\n",
            "Requirement already satisfied: ptyprocess>=0.5 in /usr/local/lib/python3.10/dist-packages (from pexpect>4.3->ipython->ipython-sql) (0.7.0)\n",
            "Installing collected packages: jedi\n",
            "Successfully installed jedi-0.19.1\n"
          ]
        }
      ],
      "source": [
        "!pip install ipython-sql"
      ]
    },
    {
      "cell_type": "code",
      "source": [
        "%load_ext sql"
      ],
      "metadata": {
        "id": "1dZ163sCl3so"
      },
      "execution_count": 2,
      "outputs": []
    },
    {
      "cell_type": "code",
      "source": [
        "%sql sqlite://"
      ],
      "metadata": {
        "id": "8MQhjTV2l3zl"
      },
      "execution_count": 3,
      "outputs": []
    },
    {
      "cell_type": "code",
      "source": [
        "%%sql CREATE TABLE beneficiary_partner_data (\n",
        "partner_id INTEGER NOT NULL PRIMARY KEY,\n",
        "partner VARCHAR(30) NOT NULL,\n",
        "village VARCHAR(30) NOT NULL,\n",
        "beneficiaries INTEGER,\n",
        "beneficiary_type VARCHAR(30)\n",
        ");"
      ],
      "metadata": {
        "colab": {
          "base_uri": "https://localhost:8080/"
        },
        "id": "V8Z823xTl32m",
        "outputId": "334a53da-415a-4d30-89b9-bdb3d4d695dd"
      },
      "execution_count": 4,
      "outputs": [
        {
          "output_type": "stream",
          "name": "stdout",
          "text": [
            " * sqlite://\n",
            "Done.\n"
          ]
        },
        {
          "output_type": "execute_result",
          "data": {
            "text/plain": [
              "[]"
            ]
          },
          "metadata": {},
          "execution_count": 4
        }
      ]
    },
    {
      "cell_type": "code",
      "source": [
        "%%sql CREATE TABLE village_locations (\n",
        "    village_id INTEGER NOT NULL PRIMARY KEY,\n",
        "    village VARCHAR(30) NOT NULL,\n",
        "    latitude VARCHAR(30),\n",
        "    longitude VARCHAR(30),\n",
        "    total_population INTEGER\n",
        ");"
      ],
      "metadata": {
        "colab": {
          "base_uri": "https://localhost:8080/"
        },
        "id": "t9sWNYg2mTH_",
        "outputId": "8b721323-49bf-4e31-be7d-685168978dd3"
      },
      "execution_count": 5,
      "outputs": [
        {
          "output_type": "stream",
          "name": "stdout",
          "text": [
            " * sqlite://\n",
            "Done.\n"
          ]
        },
        {
          "output_type": "execute_result",
          "data": {
            "text/plain": [
              "[]"
            ]
          },
          "metadata": {},
          "execution_count": 5
        }
      ]
    },
    {
      "cell_type": "code",
      "source": [
        "%%sql INSERT INTO village_locations(village_id, village, latitude, longitude, total_population)\n",
        "VALUES (100, 'Dharkenley', '4°47''35.40\"', '45°12''28.80\"', 12800),\n",
        "       (200, 'Bulo-Kahin', '4°47''57.00\"', '45°11''5.70\"', 9485),\n",
        "       (300, 'Hilo Kelyo', '4°47''57.00\"', '45°12''58.60\"', 5212),\n",
        "       (400, 'Xubow', '4°46''46.77\"', '45°12''7.57\"', 2558),\n",
        "       (500, 'Xiintooy', '4°44''14.40\"', '45°13''5.00\"', 3850),\n",
        "       (600, 'Dhagax Jebis', '4°44''27.86\"', '45°12''42.03\"', 3563),\n",
        "       (700, 'Filtare', '4°44''20.43\"', '45°12''27.89\"', 8000),\n",
        "       (800, 'Howl-Wadaag', '4°43''50.00\"', '45°11''58.20\"', 7525),\n",
        "       (900, 'Balcad', '2°21.624''', '45°23.928''', 1500),\n",
        "       (1000, 'Mareeray', '2°23.504''', '45°25.200''', 7500),\n",
        "       (1100, 'Kulmis', '2°36.761''', '45°30.642''', 6058),\n",
        "       (1200, 'Sabuun', '2°53.020''', '45°32.356''', 5483),\n",
        "       (1300, 'Bayaxaw', '2°44.768''', '45°29.727''', 3000),\n",
        "       (1400, 'Bayaxawo', '2°44.768''', '45°29.926''', 7560);\n"
      ],
      "metadata": {
        "colab": {
          "base_uri": "https://localhost:8080/"
        },
        "id": "8oFeXPNrp3cJ",
        "outputId": "b785a1b9-b3ac-4a08-b629-1ad9ddd8c10e"
      },
      "execution_count": 6,
      "outputs": [
        {
          "output_type": "stream",
          "name": "stdout",
          "text": [
            " * sqlite://\n",
            "14 rows affected.\n"
          ]
        },
        {
          "output_type": "execute_result",
          "data": {
            "text/plain": [
              "[]"
            ]
          },
          "metadata": {},
          "execution_count": 6
        }
      ]
    },
    {
      "cell_type": "code",
      "source": [
        "%%sql INSERT INTO beneficiary_partner_data(partner, village, beneficiaries, beneficiary_type)\n",
        "VALUES\n",
        "('IRC', 'Balcad', 1450, 'Individuals'),\n",
        "('NRC', 'Balcad', 50, 'Households'),\n",
        "('SCI', 'Balcad', 1123, 'Individuals'),\n",
        "('IMC', 'Balcad', 1245, 'Individuals'),\n",
        "('SCI', 'Mareeray', 5200, 'Individuals'),\n",
        "('IMC', 'Mareeray', 70, 'Households'),\n",
        "('IRC', 'Mareeray', 2100, 'Individuals'),\n",
        "('CESVI', 'Mareeray', 1800, 'Individuals'),\n",
        "('SCI', 'Kulmis', 1340, 'Individuals'),\n",
        "('IMC', 'Kulmis', 55, 'Households'),\n",
        "('SCI', 'Kulmis', 4500, 'Individuals'),\n",
        "('IMC', 'Kulmis', 1670, 'Individuals'),\n",
        "('IMC', 'Sabuun', 1340, 'Individuals'),\n",
        "('IRC', 'Sabuun', 66, 'Households'),\n",
        "('CESVI', 'Sabuun', 4090, 'Individuals'),\n",
        "('SCI', 'Sabuun', 2930, 'Individuals'),\n",
        "('IMC', 'Bayaxaw', 2800, 'Individuals'),\n",
        "('IRC', 'Bayaxaw', 2100, 'Individuals'),\n",
        "('CESVI', 'Bayaxaw', 45, 'Households'),\n",
        "('SCI', 'Bayaxaw', 1700, 'Individuals'),\n",
        "('SCI', 'Bayaxawo', 5900, 'Individuals'),\n",
        "('IMC', 'Bayaxawo', 40, 'Households'),\n",
        "('IRC', 'Bayaxawo', 1500, 'Individuals'),\n",
        "('CESVI', 'Bayaxawo', 1260, 'Individuals'),\n",
        "('CESVI', 'Dharkenley', 7880, 'Individuals'),\n",
        "('IRC', 'Dharkenley', 34, 'Households'),\n",
        "('SCI', 'Bulo-Kahin', 4300, 'Individuals'),\n",
        "('IMC', 'Bulo-Kahin', 4212, 'Individuals'),\n",
        "('IRC', 'Bulo-Kahin', 3200, 'Individuals'),\n",
        "('IRC', 'Hilo Kelyo', 5212, 'Individuals'),\n",
        "('SCI', 'Hilo Kelyo', 25, 'Households'),\n",
        "('CESVI', 'Xubow', 2157, 'Individuals'),\n",
        "('IMC', 'Xiintooy', 1667, 'Individuals'),\n",
        "('IRC', 'Xiintooy', 2667, 'Individuals'),\n",
        "('CESVI', 'Dhagax Jebis', 2856, 'Individuals'),\n",
        "('CESVI', 'Filtare', 7519, 'Individuals'),\n",
        "('CESVI', 'Howl-Wadaag', 6870, 'Individuals'),\n",
        "('IMC', 'Howl-Wadaag', 32, 'Households');\n"
      ],
      "metadata": {
        "colab": {
          "base_uri": "https://localhost:8080/"
        },
        "id": "b_PqD1glwfq1",
        "outputId": "4a824a77-a167-4db4-9792-146340a92459"
      },
      "execution_count": 7,
      "outputs": [
        {
          "output_type": "stream",
          "name": "stdout",
          "text": [
            " * sqlite://\n",
            "38 rows affected.\n"
          ]
        },
        {
          "output_type": "execute_result",
          "data": {
            "text/plain": [
              "[]"
            ]
          },
          "metadata": {},
          "execution_count": 7
        }
      ]
    },
    {
      "cell_type": "code",
      "source": [
        "%%sql CREATE TABLE jurisdiction_hierarchy (\n",
        "    id INTEGER PRIMARY KEY,\n",
        "    name VARCHAR(100) NOT NULL,\n",
        "    type VARCHAR(100) NOT NULL,\n",
        "    parent_name VARCHAR(100)\n",
        "   );"
      ],
      "metadata": {
        "colab": {
          "base_uri": "https://localhost:8080/"
        },
        "id": "V-YdyFaV1hOf",
        "outputId": "e4e4e255-674f-4515-dd8f-09f924c5bc39"
      },
      "execution_count": 8,
      "outputs": [
        {
          "output_type": "stream",
          "name": "stdout",
          "text": [
            " * sqlite://\n",
            "Done.\n"
          ]
        },
        {
          "output_type": "execute_result",
          "data": {
            "text/plain": [
              "[]"
            ]
          },
          "metadata": {},
          "execution_count": 8
        }
      ]
    },
    {
      "cell_type": "code",
      "source": [
        "%%sql INSERT OR IGNORE INTO jurisdiction_hierarchy VALUES (1, 'Middle Shabelle', 'Region', NULL);\n",
        "INSERT OR IGNORE INTO jurisdiction_hierarchy VALUES (2, 'Hiraan', 'Region', NULL);\n",
        "INSERT OR IGNORE INTO jurisdiction_hierarchy VALUES (3, 'Balcad', 'District', 'Middle Shabelle');\n",
        "INSERT OR IGNORE INTO jurisdiction_hierarchy VALUES (4, 'Jowhar', 'District', 'Middle Shabelle');\n",
        "INSERT OR IGNORE INTO jurisdiction_hierarchy VALUES (5, 'Beledweyn', 'District', 'Hiraan');\n",
        "INSERT OR IGNORE INTO jurisdiction_hierarchy VALUES (6, 'Dharkenley', 'Village', 'Beledweyn');\n",
        "INSERT OR IGNORE INTO jurisdiction_hierarchy VALUES (7, 'Bulo-Kahin', 'Village', 'Beledweyn');\n",
        "INSERT OR IGNORE INTO jurisdiction_hierarchy VALUES (8, 'Hilo Kelyo', 'Village', 'Beledweyn');\n",
        "INSERT OR IGNORE INTO jurisdiction_hierarchy VALUES (9, 'Xubow', 'Village', 'Beledweyn');\n",
        "INSERT OR IGNORE INTO jurisdiction_hierarchy VALUES (10, 'Xiintooy', 'Village', 'Beledweyn');\n",
        "INSERT OR IGNORE INTO jurisdiction_hierarchy VALUES (11, 'Dhagax Jebis', 'Village', 'Beledweyn');\n",
        "INSERT OR IGNORE INTO jurisdiction_hierarchy VALUES (12, 'Filtare', 'Village', 'Beledweyn');\n",
        "INSERT OR IGNORE INTO jurisdiction_hierarchy VALUES (13, 'Howl-Wadaag', 'Village', 'Beledweyn');\n",
        "INSERT OR IGNORE INTO jurisdiction_hierarchy VALUES (14, 'Balcad', 'Village', 'Balcad');\n",
        "INSERT OR IGNORE INTO jurisdiction_hierarchy VALUES (15, 'Mareeray', 'Village', 'Balcad');\n",
        "INSERT OR IGNORE INTO jurisdiction_hierarchy VALUES (16, 'Kulmis', 'Village', 'Balcad');\n",
        "INSERT OR IGNORE INTO jurisdiction_hierarchy VALUES (17, 'Sabuun', 'Village', 'Jowhar');\n",
        "INSERT OR IGNORE INTO jurisdiction_hierarchy VALUES (18, 'Bayaxaw', 'Village', 'Jowhar');\n"
      ],
      "metadata": {
        "colab": {
          "base_uri": "https://localhost:8080/"
        },
        "id": "Z4a40c6o1hVa",
        "outputId": "44a1a87e-eb83-4925-a1e2-6178b3bc8277"
      },
      "execution_count": 9,
      "outputs": [
        {
          "output_type": "stream",
          "name": "stdout",
          "text": [
            " * sqlite://\n",
            "1 rows affected.\n",
            "1 rows affected.\n",
            "1 rows affected.\n",
            "1 rows affected.\n",
            "1 rows affected.\n",
            "1 rows affected.\n",
            "1 rows affected.\n",
            "1 rows affected.\n",
            "1 rows affected.\n",
            "1 rows affected.\n",
            "1 rows affected.\n",
            "1 rows affected.\n",
            "1 rows affected.\n",
            "1 rows affected.\n",
            "1 rows affected.\n",
            "1 rows affected.\n",
            "1 rows affected.\n",
            "1 rows affected.\n"
          ]
        },
        {
          "output_type": "execute_result",
          "data": {
            "text/plain": [
              "[]"
            ]
          },
          "metadata": {},
          "execution_count": 9
        }
      ]
    },
    {
      "cell_type": "markdown",
      "source": [
        "Write a SQL script that creates the following summary tables (can be tables or views):\n",
        "a) District_summary.\n",
        "\n",
        "i) District Name\n",
        "\n",
        "ii) Region Name\n",
        "\n",
        "iii) No. of Individual Beneficiaries (1HH = 6 Individuals)\n",
        "\n",
        "iv) No. of Individual Beneficiaries / Total District Population"
      ],
      "metadata": {
        "id": "XIN5ki1sQVW9"
      }
    },
    {
      "cell_type": "code",
      "source": [
        "%%sql CREATE TABLE District_summary AS\n",
        "SELECT\n",
        "    j.name AS District_Name,\n",
        "    j.parent_name AS Region_Name,\n",
        "    SUM(CASE WHEN b.beneficiary_type = 'Individuals' THEN b.beneficiaries ELSE 6 * b.beneficiaries END) AS No_of_Individual_Beneficiaries,\n",
        "    SUM(CASE WHEN b.beneficiary_type = 'Individuals' THEN b.beneficiaries ELSE 0 END) * 1.0 / v.total_population AS Ratio_Individuals_to_Population\n",
        "FROM\n",
        "    jurisdiction_hierarchy j\n",
        "JOIN\n",
        "    beneficiary_partner_data b ON j.name = b.village\n",
        "JOIN\n",
        "    village_locations v ON j.name = v.village\n",
        "WHERE\n",
        "    j.type = 'District'\n",
        "GROUP BY\n",
        "    j.name, j.parent_name;\n"
      ],
      "metadata": {
        "colab": {
          "base_uri": "https://localhost:8080/"
        },
        "id": "qAR39o3YMTRo",
        "outputId": "47fc76ab-ff74-48fb-929c-02d71a8f9d96"
      },
      "execution_count": 10,
      "outputs": [
        {
          "output_type": "stream",
          "name": "stdout",
          "text": [
            " * sqlite://\n",
            "Done.\n"
          ]
        },
        {
          "output_type": "execute_result",
          "data": {
            "text/plain": [
              "[]"
            ]
          },
          "metadata": {},
          "execution_count": 10
        }
      ]
    },
    {
      "cell_type": "markdown",
      "source": [
        "Write a SQL script that creates the following summary tables (can be tables or views):\n",
        "b) Partner_summary\n",
        "\n",
        "i) Partner Name\n",
        "\n",
        "ii) No. of Villages reached by partner\n",
        "\n",
        "iii) No. of Districts reached by partner\n",
        "\n"
      ],
      "metadata": {
        "id": "geGaf-9xQ_I4"
      }
    },
    {
      "cell_type": "code",
      "source": [
        "%%sql CREATE TABLE Partner_summary (\n",
        "    Partner_Name VARCHAR(30),\n",
        "    No_of_Villages_reached INT,\n",
        "    No_of_Districts_reached INT\n",
        ");\n"
      ],
      "metadata": {
        "colab": {
          "base_uri": "https://localhost:8080/"
        },
        "id": "HDgNOzLSUrlt",
        "outputId": "970f1293-f523-4014-f6f2-df587556b481"
      },
      "execution_count": 11,
      "outputs": [
        {
          "output_type": "stream",
          "name": "stdout",
          "text": [
            " * sqlite://\n",
            "Done.\n"
          ]
        },
        {
          "output_type": "execute_result",
          "data": {
            "text/plain": [
              "[]"
            ]
          },
          "metadata": {},
          "execution_count": 11
        }
      ]
    },
    {
      "cell_type": "code",
      "source": [],
      "metadata": {
        "id": "OvMTOGYbrGwT"
      },
      "execution_count": null,
      "outputs": []
    },
    {
      "cell_type": "code",
      "source": [
        "%%sql ALTER TABLE Partner_summary\n",
        "ADD COLUMN Village_ID INTEGER;\n"
      ],
      "metadata": {
        "colab": {
          "base_uri": "https://localhost:8080/"
        },
        "id": "-rF2ZcczqxY4",
        "outputId": "ece89ed2-853a-4e69-a40e-825d0f1591d7"
      },
      "execution_count": 13,
      "outputs": [
        {
          "output_type": "stream",
          "name": "stdout",
          "text": [
            " * sqlite://\n",
            "Done.\n"
          ]
        },
        {
          "output_type": "execute_result",
          "data": {
            "text/plain": [
              "[]"
            ]
          },
          "metadata": {},
          "execution_count": 13
        }
      ]
    },
    {
      "cell_type": "code",
      "source": [
        "%%sql ALTER TABLE Partner_summary\n",
        "ADD COLUMN District_ID INTEGER;\n"
      ],
      "metadata": {
        "colab": {
          "base_uri": "https://localhost:8080/"
        },
        "id": "6V-fbIvqrvl1",
        "outputId": "7d9146ee-699e-439e-9b5c-126421f7810f"
      },
      "execution_count": 16,
      "outputs": [
        {
          "output_type": "stream",
          "name": "stdout",
          "text": [
            " * sqlite://\n",
            "Done.\n"
          ]
        },
        {
          "output_type": "execute_result",
          "data": {
            "text/plain": [
              "[]"
            ]
          },
          "metadata": {},
          "execution_count": 16
        }
      ]
    },
    {
      "cell_type": "code",
      "source": [
        "%%sql INSERT INTO Partner_summary (Partner_Name, No_of_Villages_reached, No_of_Districts_reached)\n",
        "SELECT\n",
        "    Partner_Name,\n",
        "    COUNT(DISTINCT Village_ID) AS No_of_Villages_reached,\n",
        "    COUNT(DISTINCT District_ID) AS No_of_Districts_reached\n",
        "FROM\n",
        "    Partner_summary\n",
        "GROUP BY\n",
        "    Partner_Name;"
      ],
      "metadata": {
        "colab": {
          "base_uri": "https://localhost:8080/"
        },
        "id": "cquj56Kirv3r",
        "outputId": "4b4206ca-b0ff-4d1a-b4c6-2957d9d85f8f"
      },
      "execution_count": 18,
      "outputs": [
        {
          "output_type": "stream",
          "name": "stdout",
          "text": [
            " * sqlite://\n",
            "0 rows affected.\n"
          ]
        },
        {
          "output_type": "execute_result",
          "data": {
            "text/plain": [
              "[]"
            ]
          },
          "metadata": {},
          "execution_count": 18
        }
      ]
    },
    {
      "cell_type": "code",
      "source": [],
      "metadata": {
        "id": "2AdgKZF2rv6t"
      },
      "execution_count": null,
      "outputs": []
    }
  ]
}