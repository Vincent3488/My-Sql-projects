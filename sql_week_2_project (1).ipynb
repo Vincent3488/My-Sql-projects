{
  "cells": [
    {
      "cell_type": "code",
      "source": [
        "%load_ext sql"
      ],
      "metadata": {
        "id": "DFRbNRik2Kiu"
      },
      "execution_count": 1,
      "outputs": []
    },
    {
      "cell_type": "code",
      "source": [
        "%sql sqlite://"
      ],
      "metadata": {
        "id": "UWB9-N7x2KuX"
      },
      "execution_count": 2,
      "outputs": []
    },
    {
      "cell_type": "code",
      "source": [
        "cursor = conn.cursor()"
      ],
      "metadata": {
        "id": "2KzFBzyi5sYb"
      },
      "execution_count": 18,
      "outputs": []
    },
    {
      "cell_type": "code",
      "source": [
        "import sqlite3"
      ],
      "metadata": {
        "id": "SzMYlS2g2LGH"
      },
      "execution_count": 9,
      "outputs": []
    },
    {
      "cell_type": "code",
      "source": [
        "conn = sqlite3.connect('stud_db.sqlite')"
      ],
      "metadata": {
        "id": "70dGTowG4Da2"
      },
      "execution_count": 23,
      "outputs": []
    },
    {
      "cell_type": "code",
      "source": [
        "cursor.execute('''CREATE TABLE personal_details (\n",
        "                   national_ID INTEGER PRIMARY KEY,\n",
        "                   stud_ID VARCHAR(15),\n",
        "                   stud_name VARCHAR(100),\n",
        "                   phone_number VARCHAR(15),\n",
        "                   age INTEGER,\n",
        "                   gender VARCHAR(10)\n",
        "                )''')"
      ],
      "metadata": {
        "colab": {
          "base_uri": "https://localhost:8080/"
        },
        "id": "-npZ9FoW6ASR",
        "outputId": "8f26576e-e318-4e46-d6bb-ca7547bd50ad"
      },
      "execution_count": 25,
      "outputs": [
        {
          "output_type": "execute_result",
          "data": {
            "text/plain": [
              "<sqlite3.Cursor at 0x78d2d5997240>"
            ]
          },
          "metadata": {},
          "execution_count": 25
        }
      ]
    },
    {
      "cell_type": "code",
      "source": [
        "conn.commit()"
      ],
      "metadata": {
        "id": "PxW90wP06AVP"
      },
      "execution_count": 26,
      "outputs": []
    },
    {
      "cell_type": "code",
      "source": [
        "%%sql CREATE TABLE personal_details (\n",
        "    national_ID INTEGER PRIMARY KEY,\n",
        "    stud_ID VARCHAR(15),\n",
        "    stud_name VARCHAR(100),\n",
        "    phone_number VARCHAR(15),\n",
        "    age INTEGER,\n",
        "    gender VARCHAR(10)\n",
        ");"
      ],
      "metadata": {
        "colab": {
          "base_uri": "https://localhost:8080/"
        },
        "id": "sDDmoQWP7Eg-",
        "outputId": "5a9d86c9-4dfe-4dc7-c920-0093b0b6358d"
      },
      "execution_count": 28,
      "outputs": [
        {
          "output_type": "stream",
          "name": "stdout",
          "text": [
            " * sqlite://\n",
            "Done.\n"
          ]
        },
        {
          "output_type": "execute_result",
          "data": {
            "text/plain": [
              "[]"
            ]
          },
          "metadata": {},
          "execution_count": 28
        }
      ]
    },
    {
      "cell_type": "code",
      "source": [
        "%%sql INSERT INTO personal_details (national_ID, stud_ID, stud_name, phone_number, age, gender)\n",
        "VALUES\n",
        "    (344534, 'stud101', 'Hermione Granger', '0712345678', 20, 'Male'),\n",
        "    (379683, 'stud102', 'Draco Malfo', '0723456781', 21, 'Female'),\n",
        "    (347403, 'stud103', 'Jayden Wamashati', '0734567812', 22, 'Male'),\n",
        "    (377302, 'stud104', 'Ron Weasley', '0745678123', 19, 'Female'),\n",
        "    (336741, 'stud105', 'Dolores Umbridge', '0756781234', 21, 'Male'),\n",
        "    (307243, 'stud106', 'Hedwig Tonks', '0767812345', 21, 'Female'),\n",
        "    (310932, 'stud107', 'Chao Chang', '0778123456', 22, 'Male'),\n",
        "    (343920, 'stud108', 'Curfew Yaeitpm', '0781234567', 20, 'Female'),\n",
        "    (345261, 'stud109', 'Chaptr Mukenya', '0722345678', 20, 'Male'),\n",
        "    (339152, 'stud110', 'Natalie Mpema', '0733456781', 21, 'Female'),\n",
        "    (339746, 'stud111', 'Crew Nundi', '0744567812', 20, 'Male'),\n",
        "    (336373, 'stud112', 'Bandi Kagunda', '0755678123', 22, 'Female'),\n",
        "    (325252, 'stud113', 'Testimony Omolo', '0766456781', 21, 'Male'),\n",
        "    (321746, 'stud114', 'Career Mpya', '0741367812', 20, 'Male'),\n",
        "    (390234, 'stud115', 'Deamon Anduro', '0744421123', 22, 'Female');"
      ],
      "metadata": {
        "colab": {
          "base_uri": "https://localhost:8080/"
        },
        "id": "JTiMnBt57EpO",
        "outputId": "dc929f4e-5c91-46d5-e0de-ffcdbe835e82"
      },
      "execution_count": 29,
      "outputs": [
        {
          "output_type": "stream",
          "name": "stdout",
          "text": [
            " * sqlite://\n",
            "15 rows affected.\n"
          ]
        },
        {
          "output_type": "execute_result",
          "data": {
            "text/plain": [
              "[]"
            ]
          },
          "metadata": {},
          "execution_count": 29
        }
      ]
    },
    {
      "cell_type": "code",
      "source": [
        "%%sql CREATE TABLE school_details (\n",
        "    stud_ID VARCHAR(15) PRIMARY KEY,\n",
        "    current_home_county VARCHAR(20),\n",
        "    secondary_school_county VARCHAR(20),\n",
        "    residence VARCHAR(15),\n",
        "    stud_email VARCHAR(50)\n",
        ");"
      ],
      "metadata": {
        "colab": {
          "base_uri": "https://localhost:8080/"
        },
        "id": "7doYlFYB7EsG",
        "outputId": "dccc208f-9785-4d7b-8ac9-7a459bf3416d"
      },
      "execution_count": 30,
      "outputs": [
        {
          "output_type": "stream",
          "name": "stdout",
          "text": [
            " * sqlite://\n",
            "Done.\n"
          ]
        },
        {
          "output_type": "execute_result",
          "data": {
            "text/plain": [
              "[]"
            ]
          },
          "metadata": {},
          "execution_count": 30
        }
      ]
    },
    {
      "cell_type": "code",
      "source": [
        "%%sql INSERT INTO school_details (stud_ID)\n",
        "SELECT stud_ID\n",
        "FROM personal_details;"
      ],
      "metadata": {
        "colab": {
          "base_uri": "https://localhost:8080/"
        },
        "id": "uJW0MWpt8dyE",
        "outputId": "09784417-998f-4fcf-d98c-5740011cd1da"
      },
      "execution_count": 31,
      "outputs": [
        {
          "output_type": "stream",
          "name": "stdout",
          "text": [
            " * sqlite://\n",
            "15 rows affected.\n"
          ]
        },
        {
          "output_type": "execute_result",
          "data": {
            "text/plain": [
              "[]"
            ]
          },
          "metadata": {},
          "execution_count": 31
        }
      ]
    },
    {
      "cell_type": "code",
      "source": [
        "%%sql UPDATE school_details\n",
        "SET stud_email = (\n",
        "    SELECT REPLACE(stud_name, ' ', '') || '@zinduaschool.ac'\n",
        "    FROM personal_details\n",
        "    WHERE school_details.stud_ID = personal_details.stud_ID\n",
        ");"
      ],
      "metadata": {
        "colab": {
          "base_uri": "https://localhost:8080/"
        },
        "id": "_Vsk9SfP9-VK",
        "outputId": "4ed11f8f-615b-4204-ac0a-a708e14240aa"
      },
      "execution_count": 34,
      "outputs": [
        {
          "output_type": "stream",
          "name": "stdout",
          "text": [
            " * sqlite://\n",
            "15 rows affected.\n"
          ]
        },
        {
          "output_type": "execute_result",
          "data": {
            "text/plain": [
              "[]"
            ]
          },
          "metadata": {},
          "execution_count": 34
        }
      ]
    },
    {
      "cell_type": "code",
      "source": [
        "%%sql UPDATE school_details SET current_home_county=\"Nakuru\", secondary_school_county=\"Nairobi\", residence=\"In school\" WHERE stud_ID=\"stud101\";\n",
        "UPDATE school_details SET current_home_county=\"Nairobi\", secondary_school_county=\"Nakuru\", residence=\"In school\" WHERE stud_ID=\"stud102\";\n",
        "UPDATE school_details SET current_home_county=\"Samburu\", secondary_school_county=\"Nairobi\", residence=\"Out of school\" WHERE stud_ID=\"stud103\";\n",
        "UPDATE school_details SET current_home_county=\"Kericho\", secondary_school_county=\"Nairobi\", residence=\"In school\" WHERE stud_ID=\"stud104\";\n",
        "UPDATE school_details SET current_home_county=\"Nyamira\", secondary_school_county=\"Nakuru\", residence=\"In school\" WHERE stud_ID=\"stud105\";\n",
        "UPDATE school_details SET current_home_county=\"Kisumu\", secondary_school_county=\"Nairobi\", residence=\"Out of school\" WHERE stud_ID=\"stud106\";\n",
        "UPDATE school_details SET current_home_county=\"Nakuru\", secondary_school_county=\"Nairobi\", residence=\"Out of school\" WHERE stud_ID=\"stud107\";\n",
        "UPDATE school_details SET current_home_county=\"Kisumu\", secondary_school_county=\"Mombasa\", residence=\"Out of school\" WHERE stud_ID=\"stud108\";\n",
        "UPDATE school_details SET current_home_county=\"Kericho\", secondary_school_county=\"Mombasa\", residence=\"In school\" WHERE stud_ID=\"stud109\";\n",
        "UPDATE school_details SET current_home_county=\"Nakuru\", secondary_school_county=\"Mombasa\", residence=\"In school\" WHERE stud_ID=\"stud110\";\n",
        "UPDATE school_details SET current_home_county=\"Kiambu\", secondary_school_county=\"Turkana\", residence=\"In school\" WHERE stud_ID=\"stud111\";\n",
        "UPDATE school_details SET current_home_county=\"Nairobi\", secondary_school_county=\"Nakuru\", residence=\"In school\" WHERE stud_ID=\"stud112\";\n",
        "UPDATE school_details SET current_home_county=\"Samburu\", secondary_school_county=\"Taita Taveta\", residence=\"In school\" WHERE stud_ID=\"stud113\";\n",
        "UPDATE school_details SET current_home_county=\"Kericho\", secondary_school_county=\"Nairobi\", residence=\"Out of school\" WHERE stud_ID=\"stud114\";\n",
        "UPDATE school_details SET current_home_county=\"Kiambu\", secondary_school_county=\"Mombasa\", residence=\"In school\" WHERE stud_ID=\"stud115\";\n"
      ],
      "metadata": {
        "colab": {
          "base_uri": "https://localhost:8080/"
        },
        "id": "A2jNWq529-ad",
        "outputId": "9cbd2356-b51c-4d74-cac5-52451578d267"
      },
      "execution_count": 35,
      "outputs": [
        {
          "output_type": "stream",
          "name": "stdout",
          "text": [
            " * sqlite://\n",
            "1 rows affected.\n",
            "1 rows affected.\n",
            "1 rows affected.\n",
            "1 rows affected.\n",
            "1 rows affected.\n",
            "1 rows affected.\n",
            "1 rows affected.\n",
            "1 rows affected.\n",
            "1 rows affected.\n",
            "1 rows affected.\n",
            "1 rows affected.\n",
            "1 rows affected.\n",
            "1 rows affected.\n",
            "1 rows affected.\n",
            "1 rows affected.\n"
          ]
        },
        {
          "output_type": "execute_result",
          "data": {
            "text/plain": [
              "[]"
            ]
          },
          "metadata": {},
          "execution_count": 35
        }
      ]
    },
    {
      "cell_type": "code",
      "source": [
        "%%sql UPDATE school_details SET current_home_county=\"Nakuru\", secondary_school_county=\"Nairobi\", residence=\"In school\" WHERE stud_ID=\"stud101\";"
      ],
      "metadata": {
        "colab": {
          "base_uri": "https://localhost:8080/"
        },
        "id": "ABojmuZp-kzy",
        "outputId": "e64cf336-d0d8-4077-efbc-78a1c7f025a2"
      },
      "execution_count": 36,
      "outputs": [
        {
          "output_type": "stream",
          "name": "stdout",
          "text": [
            " * sqlite://\n",
            "1 rows affected.\n"
          ]
        },
        {
          "output_type": "execute_result",
          "data": {
            "text/plain": [
              "[]"
            ]
          },
          "metadata": {},
          "execution_count": 36
        }
      ]
    },
    {
      "cell_type": "code",
      "source": [
        "%%sql SELECT * FROM school_details WHERE stud_ID=\"stud101\";\n"
      ],
      "metadata": {
        "colab": {
          "base_uri": "https://localhost:8080/",
          "height": 118
        },
        "id": "eMiDIedx-k4M",
        "outputId": "4d2e490c-6938-4191-ce5a-230d05a943ff"
      },
      "execution_count": 38,
      "outputs": [
        {
          "output_type": "stream",
          "name": "stdout",
          "text": [
            " * sqlite://\n",
            "Done.\n"
          ]
        },
        {
          "output_type": "execute_result",
          "data": {
            "text/plain": [
              "[('stud101', 'Nakuru', 'Nairobi', 'In school', 'HermioneGranger@zinduaschool.ac')]"
            ],
            "text/html": [
              "<table>\n",
              "    <thead>\n",
              "        <tr>\n",
              "            <th>stud_ID</th>\n",
              "            <th>current_home_county</th>\n",
              "            <th>secondary_school_county</th>\n",
              "            <th>residence</th>\n",
              "            <th>stud_email</th>\n",
              "        </tr>\n",
              "    </thead>\n",
              "    <tbody>\n",
              "        <tr>\n",
              "            <td>stud101</td>\n",
              "            <td>Nakuru</td>\n",
              "            <td>Nairobi</td>\n",
              "            <td>In school</td>\n",
              "            <td>HermioneGranger@zinduaschool.ac</td>\n",
              "        </tr>\n",
              "    </tbody>\n",
              "</table>"
            ]
          },
          "metadata": {},
          "execution_count": 38
        }
      ]
    },
    {
      "cell_type": "code",
      "source": [
        "%%sql CREATE TABLE contact_details (stud_email VARCHAR(50) , phone_number VARCHAR(15), next_of_kin_name VARCHAR(50),next_of_kin_relation VARCHAR(10), next_of_kin_contacts VARCHAR(13) );"
      ],
      "metadata": {
        "colab": {
          "base_uri": "https://localhost:8080/"
        },
        "id": "miGCKcWv-k6E",
        "outputId": "385d6530-7387-4343-8d04-c2dc8cd7476c"
      },
      "execution_count": 39,
      "outputs": [
        {
          "output_type": "stream",
          "name": "stdout",
          "text": [
            " * sqlite://\n",
            "Done.\n"
          ]
        },
        {
          "output_type": "execute_result",
          "data": {
            "text/plain": [
              "[]"
            ]
          },
          "metadata": {},
          "execution_count": 39
        }
      ]
    },
    {
      "cell_type": "code",
      "source": [
        "%%sql INSERT INTO contact_details(phone_number, next_of_kin_name,next_of_kin_relation,next_of_kin_contacts)\n",
        "VALUES(\"0712345678\",\"Darius Young\",\"Father\",\"0782382383\"),\n",
        "(\"0723456781\",\"Lucy Nderitu\",\"Mother\",\"0723238983\"),\n",
        "(\"0734567812\",\"Jerotich Koech\",\"Mother\",\"0779343126\"),\n",
        "(\"0745678123\",\"Mwaura Mwangi\",\"Father\",\"0798246347\"),\n",
        "(\"0756781234\",\"Ian Patrick\",\"Father\",\"0711234453\"),\n",
        "(\"0767812345\",\"Lebron James\",\"Father\",\"0765439233\"),\n",
        "(\"0778123456\",\"Magna Carter\",\"Father\",\"0702526243\"),\n",
        "(\"0781234567\",\"Cindy Wayne\",\"Mother\",\"0747282839\"),\n",
        "(\"0722345678\",\"Farah Maalim\",\"Mother\",\"0753927482\"),\n",
        "(\"0733456781\",\"Faiba Mbugua\",\"Father\",\"0713245748\"),\n",
        "(\"0744567812\",\"John Doe\",\"Father\",\"0725737383\"),\n",
        "(\"0755678123\",\"Klaus Michealson\",\"Father\",\"0789346276\"),\n",
        "(\"0766456781\",\"Suluhu Amdany\",\"Mother\",\"0785739259\"),\n",
        "(\"0741367812\",\"Daisy Auma\",\"Mother\",\"0791344537\"),\n",
        "(\"0755421123\",\"Getrude Karen\",\"Mother\",\"0765748244\");"
      ],
      "metadata": {
        "colab": {
          "base_uri": "https://localhost:8080/"
        },
        "id": "6TUw1hfTAfdP",
        "outputId": "06175c5f-3015-45a9-e8cb-ee6debe64dd0"
      },
      "execution_count": 40,
      "outputs": [
        {
          "output_type": "stream",
          "name": "stdout",
          "text": [
            " * sqlite://\n",
            "15 rows affected.\n"
          ]
        },
        {
          "output_type": "execute_result",
          "data": {
            "text/plain": [
              "[]"
            ]
          },
          "metadata": {},
          "execution_count": 40
        }
      ]
    },
    {
      "cell_type": "code",
      "source": [
        "%%sql\n",
        "UPDATE contact_details\n",
        "SET stud_email = (SELECT school_details.stud_email\n",
        "FROM school_details, personal_details\n",
        "WHERE school_details.stud_ID = personal_details.stud_ID\n",
        "AND personal_details.phone_number = contact_details.phone_number);"
      ],
      "metadata": {
        "colab": {
          "base_uri": "https://localhost:8080/"
        },
        "id": "gnlRBJW8Afgx",
        "outputId": "a4919a23-ae4a-4861-ef3c-920a3cfbf5da"
      },
      "execution_count": 41,
      "outputs": [
        {
          "output_type": "stream",
          "name": "stdout",
          "text": [
            " * sqlite://\n",
            "15 rows affected.\n"
          ]
        },
        {
          "output_type": "execute_result",
          "data": {
            "text/plain": [
              "[]"
            ]
          },
          "metadata": {},
          "execution_count": 41
        }
      ]
    },
    {
      "cell_type": "code",
      "source": [
        "%%sql ALTER TABLE contact_details\n",
        "ADD COLUMN stud_email_new VARCHAR(50);"
      ],
      "metadata": {
        "colab": {
          "base_uri": "https://localhost:8080/"
        },
        "id": "kT0pHvaaB3zZ",
        "outputId": "45cb6950-201f-4bcc-9409-c57043003712"
      },
      "execution_count": 45,
      "outputs": [
        {
          "output_type": "stream",
          "name": "stdout",
          "text": [
            " * sqlite://\n",
            "Done.\n"
          ]
        },
        {
          "output_type": "execute_result",
          "data": {
            "text/plain": [
              "[]"
            ]
          },
          "metadata": {},
          "execution_count": 45
        }
      ]
    },
    {
      "cell_type": "code",
      "source": [
        "%%sql CREATE TABLE financial_details (stud_ID VARCHAR(15) ,stud_name VARCHAR(50) ,\n",
        "sem_fee INTEGER(6) , fee_paid INTEGER(6),\n",
        "PRIMARY KEY(stud_ID) );"
      ],
      "metadata": {
        "colab": {
          "base_uri": "https://localhost:8080/"
        },
        "id": "meZ3ToiDCwrg",
        "outputId": "957aeeaa-0178-4e50-a3d6-158d785ba3c4"
      },
      "execution_count": 46,
      "outputs": [
        {
          "output_type": "stream",
          "name": "stdout",
          "text": [
            " * sqlite://\n",
            "Done.\n"
          ]
        },
        {
          "output_type": "execute_result",
          "data": {
            "text/plain": [
              "[]"
            ]
          },
          "metadata": {},
          "execution_count": 46
        }
      ]
    },
    {
      "cell_type": "code",
      "source": [
        "%%sql INSERT INTO financial_details(stud_ID,stud_name)\n",
        "SELECT personal_details.stud_ID, personal_details.stud_name\n",
        "FROM personal_details;"
      ],
      "metadata": {
        "colab": {
          "base_uri": "https://localhost:8080/"
        },
        "id": "4xUC19KeDB-v",
        "outputId": "f9601347-9ca6-4726-d89d-b63ed68b127a"
      },
      "execution_count": 47,
      "outputs": [
        {
          "output_type": "stream",
          "name": "stdout",
          "text": [
            " * sqlite://\n",
            "15 rows affected.\n"
          ]
        },
        {
          "output_type": "execute_result",
          "data": {
            "text/plain": [
              "[]"
            ]
          },
          "metadata": {},
          "execution_count": 47
        }
      ]
    },
    {
      "cell_type": "code",
      "source": [
        "%%sql UPDATE financial_details SET sem_fee = 25000, fee_paid=25000 WHERE stud_ID = \"stud101\";\n",
        "UPDATE financial_details SET sem_fee= 25000, fee_paid=19000 WHERE stud_ID = \"stud102\";\n",
        "UPDATE financial_details SET sem_fee= 21900, fee_paid=20000 WHERE stud_ID = \"stud103\";\n",
        "UPDATE financial_details SET sem_fee= 22000, fee_paid=22000 WHERE stud_ID = \"stud104\";\n",
        "UPDATE financial_details SET sem_fee= 25000, fee_paid=23400 WHERE stud_ID = \"stud105\";\n",
        "UPDATE financial_details SET sem_fee= 25000, fee_paid=27000 WHERE stud_ID = \"stud106\";\n",
        "UPDATE financial_details SET sem_fee= 24230, fee_paid=21200 WHERE stud_ID = \"stud107\";\n",
        "UPDATE financial_details SET sem_fee= 25000, fee_paid=23500 WHERE stud_ID = \"stud108\";\n",
        "UPDATE financial_details SET sem_fee= 25000, fee_paid=24500 WHERE stud_ID = \"stud109\";\n",
        "UPDATE financial_details SET sem_fee= 25000, fee_paid=25000 WHERE stud_ID = \"stud110\";\n",
        "UPDATE financial_details SET sem_fee= 26000, fee_paid=26000 WHERE stud_ID = \"stud111\";\n",
        "UPDATE financial_details SET sem_fee= 25000, fee_paid=20900 WHERE stud_ID = \"stud112\";\n",
        "UPDATE financial_details SET sem_fee= 25000, fee_paid=22300 WHERE stud_ID = \"stud113\";\n",
        "UPDATE financial_details SET sem_fee= 19000, fee_paid=19000 WHERE stud_ID = \"stud114\";\n",
        "UPDATE financial_details SET sem_fee= 20800, fee_paid=20800 WHERE stud_ID = \"stud115\";"
      ],
      "metadata": {
        "colab": {
          "base_uri": "https://localhost:8080/"
        },
        "id": "92lqECaRCw8o",
        "outputId": "d0efcf00-36e7-435b-bf3a-3028e79ee2b3"
      },
      "execution_count": 48,
      "outputs": [
        {
          "output_type": "stream",
          "name": "stdout",
          "text": [
            " * sqlite://\n",
            "1 rows affected.\n",
            "1 rows affected.\n",
            "1 rows affected.\n",
            "1 rows affected.\n",
            "1 rows affected.\n",
            "1 rows affected.\n",
            "1 rows affected.\n",
            "1 rows affected.\n",
            "1 rows affected.\n",
            "1 rows affected.\n",
            "1 rows affected.\n",
            "1 rows affected.\n",
            "1 rows affected.\n",
            "1 rows affected.\n",
            "1 rows affected.\n"
          ]
        },
        {
          "output_type": "execute_result",
          "data": {
            "text/plain": [
              "[]"
            ]
          },
          "metadata": {},
          "execution_count": 48
        }
      ]
    },
    {
      "cell_type": "markdown",
      "source": [
        "\n",
        "Using JOIN get the student names, school id, email, phone number (new_stud_details)"
      ],
      "metadata": {
        "id": "YbJLWCAXHkxz"
      }
    },
    {
      "cell_type": "code",
      "source": [
        "%%sql SELECT\n",
        "    pd.stud_name AS student_name,\n",
        "    sd.stud_ID AS school_id,\n",
        "    sd.stud_email AS email,\n",
        "    pd.phone_number AS phone_number\n",
        "FROM\n",
        "    personal_details pd\n",
        "JOIN\n",
        "    school_details sd ON pd.stud_ID = sd.stud_ID;\n"
      ],
      "metadata": {
        "colab": {
          "base_uri": "https://localhost:8080/",
          "height": 393
        },
        "id": "vePkmTkxEqGy",
        "outputId": "c7d2afa8-94e2-4ce4-ebf2-04b7798289cc"
      },
      "execution_count": 53,
      "outputs": [
        {
          "output_type": "stream",
          "name": "stdout",
          "text": [
            " * sqlite://\n",
            "Done.\n"
          ]
        },
        {
          "output_type": "execute_result",
          "data": {
            "text/plain": [
              "[('Hedwig Tonks', 'stud106', 'HedwigTonks@zinduaschool.ac', '0767812345'),\n",
              " ('Chao Chang', 'stud107', 'ChaoChang@zinduaschool.ac', '0778123456'),\n",
              " ('Career Mpya', 'stud114', 'CareerMpya@zinduaschool.ac', '0741367812'),\n",
              " ('Testimony Omolo', 'stud113', 'TestimonyOmolo@zinduaschool.ac', '0766456781'),\n",
              " ('Bandi Kagunda', 'stud112', 'BandiKagunda@zinduaschool.ac', '0755678123'),\n",
              " ('Dolores Umbridge', 'stud105', 'DoloresUmbridge@zinduaschool.ac', '0756781234'),\n",
              " ('Natalie Mpema', 'stud110', 'NatalieMpema@zinduaschool.ac', '0733456781'),\n",
              " ('Crew Nundi', 'stud111', 'CrewNundi@zinduaschool.ac', '0744567812'),\n",
              " ('Curfew Yaeitpm', 'stud108', 'CurfewYaeitpm@zinduaschool.ac', '0781234567'),\n",
              " ('Hermione Granger', 'stud101', 'HermioneGranger@zinduaschool.ac', '0712345678'),\n",
              " ('Chaptr Mukenya', 'stud109', 'ChaptrMukenya@zinduaschool.ac', '0722345678'),\n",
              " ('Jayden Wamashati', 'stud103', 'JaydenWamashati@zinduaschool.ac', '0734567812'),\n",
              " ('Ron Weasley', 'stud104', 'RonWeasley@zinduaschool.ac', '0745678123'),\n",
              " ('Draco Malfo', 'stud102', 'DracoMalfo@zinduaschool.ac', '0723456781'),\n",
              " ('Deamon Anduro', 'stud115', 'DeamonAnduro@zinduaschool.ac', '0744421123')]"
            ],
            "text/html": [
              "<table>\n",
              "    <thead>\n",
              "        <tr>\n",
              "            <th>student_name</th>\n",
              "            <th>school_id</th>\n",
              "            <th>email</th>\n",
              "            <th>phone_number</th>\n",
              "        </tr>\n",
              "    </thead>\n",
              "    <tbody>\n",
              "        <tr>\n",
              "            <td>Hedwig Tonks</td>\n",
              "            <td>stud106</td>\n",
              "            <td>HedwigTonks@zinduaschool.ac</td>\n",
              "            <td>0767812345</td>\n",
              "        </tr>\n",
              "        <tr>\n",
              "            <td>Chao Chang</td>\n",
              "            <td>stud107</td>\n",
              "            <td>ChaoChang@zinduaschool.ac</td>\n",
              "            <td>0778123456</td>\n",
              "        </tr>\n",
              "        <tr>\n",
              "            <td>Career Mpya</td>\n",
              "            <td>stud114</td>\n",
              "            <td>CareerMpya@zinduaschool.ac</td>\n",
              "            <td>0741367812</td>\n",
              "        </tr>\n",
              "        <tr>\n",
              "            <td>Testimony Omolo</td>\n",
              "            <td>stud113</td>\n",
              "            <td>TestimonyOmolo@zinduaschool.ac</td>\n",
              "            <td>0766456781</td>\n",
              "        </tr>\n",
              "        <tr>\n",
              "            <td>Bandi Kagunda</td>\n",
              "            <td>stud112</td>\n",
              "            <td>BandiKagunda@zinduaschool.ac</td>\n",
              "            <td>0755678123</td>\n",
              "        </tr>\n",
              "        <tr>\n",
              "            <td>Dolores Umbridge</td>\n",
              "            <td>stud105</td>\n",
              "            <td>DoloresUmbridge@zinduaschool.ac</td>\n",
              "            <td>0756781234</td>\n",
              "        </tr>\n",
              "        <tr>\n",
              "            <td>Natalie Mpema</td>\n",
              "            <td>stud110</td>\n",
              "            <td>NatalieMpema@zinduaschool.ac</td>\n",
              "            <td>0733456781</td>\n",
              "        </tr>\n",
              "        <tr>\n",
              "            <td>Crew Nundi</td>\n",
              "            <td>stud111</td>\n",
              "            <td>CrewNundi@zinduaschool.ac</td>\n",
              "            <td>0744567812</td>\n",
              "        </tr>\n",
              "        <tr>\n",
              "            <td>Curfew Yaeitpm</td>\n",
              "            <td>stud108</td>\n",
              "            <td>CurfewYaeitpm@zinduaschool.ac</td>\n",
              "            <td>0781234567</td>\n",
              "        </tr>\n",
              "        <tr>\n",
              "            <td>Hermione Granger</td>\n",
              "            <td>stud101</td>\n",
              "            <td>HermioneGranger@zinduaschool.ac</td>\n",
              "            <td>0712345678</td>\n",
              "        </tr>\n",
              "        <tr>\n",
              "            <td>Chaptr Mukenya</td>\n",
              "            <td>stud109</td>\n",
              "            <td>ChaptrMukenya@zinduaschool.ac</td>\n",
              "            <td>0722345678</td>\n",
              "        </tr>\n",
              "        <tr>\n",
              "            <td>Jayden Wamashati</td>\n",
              "            <td>stud103</td>\n",
              "            <td>JaydenWamashati@zinduaschool.ac</td>\n",
              "            <td>0734567812</td>\n",
              "        </tr>\n",
              "        <tr>\n",
              "            <td>Ron Weasley</td>\n",
              "            <td>stud104</td>\n",
              "            <td>RonWeasley@zinduaschool.ac</td>\n",
              "            <td>0745678123</td>\n",
              "        </tr>\n",
              "        <tr>\n",
              "            <td>Draco Malfo</td>\n",
              "            <td>stud102</td>\n",
              "            <td>DracoMalfo@zinduaschool.ac</td>\n",
              "            <td>0723456781</td>\n",
              "        </tr>\n",
              "        <tr>\n",
              "            <td>Deamon Anduro</td>\n",
              "            <td>stud115</td>\n",
              "            <td>DeamonAnduro@zinduaschool.ac</td>\n",
              "            <td>0744421123</td>\n",
              "        </tr>\n",
              "    </tbody>\n",
              "</table>"
            ]
          },
          "metadata": {},
          "execution_count": 53
        }
      ]
    },
    {
      "cell_type": "code",
      "source": [
        "%%sql CREATE TABLE full_stud_details AS\n",
        "SELECT\n",
        "    pd.national_ID,\n",
        "    pd.stud_ID,\n",
        "    pd.stud_name,\n",
        "    pd.phone_number,\n",
        "    pd.age,\n",
        "    pd.gender,\n",
        "    sd.current_home_county,\n",
        "    sd.secondary_school_county,\n",
        "    sd.residence,\n",
        "    cd.next_of_kin_name,\n",
        "    cd.next_of_kin_relation,\n",
        "    cd.next_of_kin_contacts,\n",
        "    fd.sem_fee,\n",
        "    fd.fee_paid\n",
        "FROM\n",
        "    personal_details pd\n",
        "JOIN\n",
        "    school_details sd ON pd.stud_ID = sd.stud_ID\n",
        "JOIN\n",
        "    contact_details cd ON pd.phone_number = cd.phone_number\n",
        "JOIN\n",
        "    financial_details fd ON pd.stud_ID = fd.stud_ID;\n"
      ],
      "metadata": {
        "colab": {
          "base_uri": "https://localhost:8080/"
        },
        "id": "he10G5E_gvbc",
        "outputId": "31758c09-f2d7-47d6-eaa2-6b0978ff470d"
      },
      "execution_count": 74,
      "outputs": [
        {
          "output_type": "stream",
          "name": "stdout",
          "text": [
            " * sqlite://\n",
            "(sqlite3.OperationalError) table full_stud_details already exists\n",
            "[SQL: CREATE TABLE full_stud_details AS\n",
            "SELECT \n",
            "    pd.national_ID,\n",
            "    pd.stud_ID,\n",
            "    pd.stud_name,\n",
            "    pd.phone_number,\n",
            "    pd.age,\n",
            "    pd.gender,\n",
            "    sd.current_home_county,\n",
            "    sd.secondary_school_county,\n",
            "    sd.residence,\n",
            "    cd.next_of_kin_name,\n",
            "    cd.next_of_kin_relation,\n",
            "    cd.next_of_kin_contacts,\n",
            "    fd.sem_fee,\n",
            "    fd.fee_paid\n",
            "FROM \n",
            "    personal_details pd\n",
            "JOIN \n",
            "    school_details sd ON pd.stud_ID = sd.stud_ID\n",
            "JOIN \n",
            "    contact_details cd ON pd.phone_number = cd.phone_number\n",
            "JOIN \n",
            "    financial_details fd ON pd.stud_ID = fd.stud_ID;]\n",
            "(Background on this error at: https://sqlalche.me/e/20/e3q8)\n"
          ]
        }
      ]
    },
    {
      "cell_type": "markdown",
      "source": [
        "Add student names on any empty row of stud_name in financial_details"
      ],
      "metadata": {
        "id": "uRvY3CjxQI_0"
      }
    },
    {
      "cell_type": "code",
      "source": [
        "%%sql UPDATE financial_details\n",
        "SET stud_name = (\n",
        "    SELECT stud_name\n",
        "    FROM personal_details\n",
        "    WHERE personal_details.stud_ID = financial_details.stud_ID\n",
        ")\n",
        "WHERE stud_name IS NULL;"
      ],
      "metadata": {
        "colab": {
          "base_uri": "https://localhost:8080/"
        },
        "id": "Qp9nDInMHtO1",
        "outputId": "4a331e84-ccba-425f-f5f5-44d0252d3cc1"
      },
      "execution_count": 58,
      "outputs": [
        {
          "output_type": "stream",
          "name": "stdout",
          "text": [
            " * sqlite://\n",
            "0 rows affected.\n"
          ]
        },
        {
          "output_type": "execute_result",
          "data": {
            "text/plain": [
              "[]"
            ]
          },
          "metadata": {},
          "execution_count": 58
        }
      ]
    },
    {
      "cell_type": "markdown",
      "source": [
        " On the financial_details table add a column, fee_cleared, that has True if student has cleared current fee and False if not (financial_details_view)"
      ],
      "metadata": {
        "id": "SXaOx9zUQO1Q"
      }
    },
    {
      "cell_type": "code",
      "source": [
        "%%sql ALTER TABLE financial_details\n",
        "ADD COLUMN fee_cleared INTEGER;\n"
      ],
      "metadata": {
        "colab": {
          "base_uri": "https://localhost:8080/"
        },
        "id": "gCK0izppHtQl",
        "outputId": "e0713ba1-c643-4244-c7c6-1d2296f5b70f"
      },
      "execution_count": 59,
      "outputs": [
        {
          "output_type": "stream",
          "name": "stdout",
          "text": [
            " * sqlite://\n",
            "Done.\n"
          ]
        },
        {
          "output_type": "execute_result",
          "data": {
            "text/plain": [
              "[]"
            ]
          },
          "metadata": {},
          "execution_count": 59
        }
      ]
    },
    {
      "cell_type": "code",
      "source": [],
      "metadata": {
        "id": "-vRp8pO4QWGw"
      },
      "execution_count": null,
      "outputs": []
    },
    {
      "cell_type": "code",
      "source": [
        "%%sql UPDATE financial_details\n",
        "SET fee_cleared = CASE\n",
        "                      WHEN fee_paid >= sem_fee THEN 1\n",
        "                      ELSE 0\n",
        "                  END;"
      ],
      "metadata": {
        "colab": {
          "base_uri": "https://localhost:8080/"
        },
        "id": "PFQiJQJkHtTO",
        "outputId": "34b18fb7-f463-4a5a-eff1-b8474826e2cf"
      },
      "execution_count": 60,
      "outputs": [
        {
          "output_type": "stream",
          "name": "stdout",
          "text": [
            " * sqlite://\n",
            "15 rows affected.\n"
          ]
        },
        {
          "output_type": "execute_result",
          "data": {
            "text/plain": [
              "[]"
            ]
          },
          "metadata": {},
          "execution_count": 60
        }
      ]
    },
    {
      "cell_type": "markdown",
      "source": [
        "\n",
        " Get the national ID and name of all students who have cleared their fees (fee_cleared)"
      ],
      "metadata": {
        "id": "SJfEqRa3QZYr"
      }
    },
    {
      "cell_type": "code",
      "source": [
        "%%sql SELECT p.national_ID, p.stud_name\n",
        "FROM personal_details p\n",
        "JOIN financial_details f ON p.stud_ID = f.stud_ID\n",
        "WHERE f.fee_cleared = 1;"
      ],
      "metadata": {
        "colab": {
          "base_uri": "https://localhost:8080/",
          "height": 224
        },
        "id": "dvz4HJaQQjAE",
        "outputId": "68da112a-17f6-4163-97f3-0b698453a7b3"
      },
      "execution_count": 61,
      "outputs": [
        {
          "output_type": "stream",
          "name": "stdout",
          "text": [
            " * sqlite://\n",
            "Done.\n"
          ]
        },
        {
          "output_type": "execute_result",
          "data": {
            "text/plain": [
              "[(307243, 'Hedwig Tonks'),\n",
              " (321746, 'Career Mpya'),\n",
              " (339152, 'Natalie Mpema'),\n",
              " (339746, 'Crew Nundi'),\n",
              " (344534, 'Hermione Granger'),\n",
              " (377302, 'Ron Weasley'),\n",
              " (390234, 'Deamon Anduro')]"
            ],
            "text/html": [
              "<table>\n",
              "    <thead>\n",
              "        <tr>\n",
              "            <th>national_ID</th>\n",
              "            <th>stud_name</th>\n",
              "        </tr>\n",
              "    </thead>\n",
              "    <tbody>\n",
              "        <tr>\n",
              "            <td>307243</td>\n",
              "            <td>Hedwig Tonks</td>\n",
              "        </tr>\n",
              "        <tr>\n",
              "            <td>321746</td>\n",
              "            <td>Career Mpya</td>\n",
              "        </tr>\n",
              "        <tr>\n",
              "            <td>339152</td>\n",
              "            <td>Natalie Mpema</td>\n",
              "        </tr>\n",
              "        <tr>\n",
              "            <td>339746</td>\n",
              "            <td>Crew Nundi</td>\n",
              "        </tr>\n",
              "        <tr>\n",
              "            <td>344534</td>\n",
              "            <td>Hermione Granger</td>\n",
              "        </tr>\n",
              "        <tr>\n",
              "            <td>377302</td>\n",
              "            <td>Ron Weasley</td>\n",
              "        </tr>\n",
              "        <tr>\n",
              "            <td>390234</td>\n",
              "            <td>Deamon Anduro</td>\n",
              "        </tr>\n",
              "    </tbody>\n",
              "</table>"
            ]
          },
          "metadata": {},
          "execution_count": 61
        }
      ]
    },
    {
      "cell_type": "markdown",
      "source": [
        " Get the total sum of fees paid so far and the total current deficit (total_fee_balance)"
      ],
      "metadata": {
        "id": "8xcL9OXvQyHY"
      }
    },
    {
      "cell_type": "code",
      "source": [
        "%%sql SELECT\n",
        "    SUM(fee_paid) AS total_fees_paid,\n",
        "    SUM(sem_fee - fee_paid) AS total_fee_balance\n",
        "FROM\n",
        "    financial_details;\n"
      ],
      "metadata": {
        "colab": {
          "base_uri": "https://localhost:8080/",
          "height": 98
        },
        "id": "coAw8k_TQlGs",
        "outputId": "503e6c1b-6ed7-4a1c-d8fd-91e9c4181415"
      },
      "execution_count": 62,
      "outputs": [
        {
          "output_type": "stream",
          "name": "stdout",
          "text": [
            " * sqlite://\n",
            "Done.\n"
          ]
        },
        {
          "output_type": "execute_result",
          "data": {
            "text/plain": [
              "[(339600, 19330)]"
            ],
            "text/html": [
              "<table>\n",
              "    <thead>\n",
              "        <tr>\n",
              "            <th>total_fees_paid</th>\n",
              "            <th>total_fee_balance</th>\n",
              "        </tr>\n",
              "    </thead>\n",
              "    <tbody>\n",
              "        <tr>\n",
              "            <td>339600</td>\n",
              "            <td>19330</td>\n",
              "        </tr>\n",
              "    </tbody>\n",
              "</table>"
            ]
          },
          "metadata": {},
          "execution_count": 62
        }
      ]
    },
    {
      "cell_type": "markdown",
      "source": [
        " Get the count of students who share a current home county i.e., Say Nairobi, get the number of students who’s current_home_county is Nairobi, and so on for all available counties (home_county_count)\n"
      ],
      "metadata": {
        "id": "qQSNSoTURC5R"
      }
    },
    {
      "cell_type": "code",
      "source": [
        "%%sql SELECT\n",
        "    current_home_county,\n",
        "    COUNT(*) AS home_county_count\n",
        "FROM\n",
        "    school_details\n",
        "GROUP BY\n",
        "    current_home_county;\n"
      ],
      "metadata": {
        "colab": {
          "base_uri": "https://localhost:8080/",
          "height": 224
        },
        "id": "Y530uAOpQ371",
        "outputId": "6d1ef6e6-0733-412f-bf25-ad6ddaa5652b"
      },
      "execution_count": 63,
      "outputs": [
        {
          "output_type": "stream",
          "name": "stdout",
          "text": [
            " * sqlite://\n",
            "Done.\n"
          ]
        },
        {
          "output_type": "execute_result",
          "data": {
            "text/plain": [
              "[('Kericho', 3),\n",
              " ('Kiambu', 2),\n",
              " ('Kisumu', 2),\n",
              " ('Nairobi', 2),\n",
              " ('Nakuru', 3),\n",
              " ('Nyamira', 1),\n",
              " ('Samburu', 2)]"
            ],
            "text/html": [
              "<table>\n",
              "    <thead>\n",
              "        <tr>\n",
              "            <th>current_home_county</th>\n",
              "            <th>home_county_count</th>\n",
              "        </tr>\n",
              "    </thead>\n",
              "    <tbody>\n",
              "        <tr>\n",
              "            <td>Kericho</td>\n",
              "            <td>3</td>\n",
              "        </tr>\n",
              "        <tr>\n",
              "            <td>Kiambu</td>\n",
              "            <td>2</td>\n",
              "        </tr>\n",
              "        <tr>\n",
              "            <td>Kisumu</td>\n",
              "            <td>2</td>\n",
              "        </tr>\n",
              "        <tr>\n",
              "            <td>Nairobi</td>\n",
              "            <td>2</td>\n",
              "        </tr>\n",
              "        <tr>\n",
              "            <td>Nakuru</td>\n",
              "            <td>3</td>\n",
              "        </tr>\n",
              "        <tr>\n",
              "            <td>Nyamira</td>\n",
              "            <td>1</td>\n",
              "        </tr>\n",
              "        <tr>\n",
              "            <td>Samburu</td>\n",
              "            <td>2</td>\n",
              "        </tr>\n",
              "    </tbody>\n",
              "</table>"
            ]
          },
          "metadata": {},
          "execution_count": 63
        }
      ]
    },
    {
      "cell_type": "markdown",
      "source": [
        "Get the count of Male and/or Female students from each secondary_school_county (secondary_school_count). The table should contain a column for male student count and female student count for each county."
      ],
      "metadata": {
        "id": "JAlxXGRGRZVr"
      }
    },
    {
      "cell_type": "code",
      "source": [
        "%%sql ALTER TABLE school_details\n",
        "ADD COLUMN gender VARCHAR(10);"
      ],
      "metadata": {
        "colab": {
          "base_uri": "https://localhost:8080/"
        },
        "id": "JPy8mXeTSj5J",
        "outputId": "9c68970a-151b-4de9-bce3-8e0ac6a7915c"
      },
      "execution_count": 66,
      "outputs": [
        {
          "output_type": "stream",
          "name": "stdout",
          "text": [
            " * sqlite://\n",
            "Done.\n"
          ]
        },
        {
          "output_type": "execute_result",
          "data": {
            "text/plain": [
              "[]"
            ]
          },
          "metadata": {},
          "execution_count": 66
        }
      ]
    },
    {
      "cell_type": "code",
      "source": [
        "%%sql UPDATE school_details\n",
        "SET gender = (\n",
        "    SELECT gender\n",
        "    FROM personal_details\n",
        "    WHERE personal_details.stud_ID = school_details.stud_ID\n",
        ");"
      ],
      "metadata": {
        "colab": {
          "base_uri": "https://localhost:8080/"
        },
        "id": "M-X7IM0ESpn5",
        "outputId": "7b8d0d89-9084-470f-85d4-681941293e0c"
      },
      "execution_count": 67,
      "outputs": [
        {
          "output_type": "stream",
          "name": "stdout",
          "text": [
            " * sqlite://\n",
            "15 rows affected.\n"
          ]
        },
        {
          "output_type": "execute_result",
          "data": {
            "text/plain": [
              "[]"
            ]
          },
          "metadata": {},
          "execution_count": 67
        }
      ]
    },
    {
      "cell_type": "code",
      "source": [
        "%%sql SELECT\n",
        "    secondary_school_county,\n",
        "    SUM(CASE WHEN gender = 'Male' THEN 1 ELSE 0 END) AS male_student_count,\n",
        "    SUM(CASE WHEN gender = 'Female' THEN 1 ELSE 0 END) AS female_student_count\n",
        "FROM\n",
        "    school_details\n",
        "GROUP BY\n",
        "    secondary_school_county;\n"
      ],
      "metadata": {
        "colab": {
          "base_uri": "https://localhost:8080/",
          "height": 182
        },
        "id": "FKdjek_pSyIU",
        "outputId": "81d7b253-3725-46f4-bd38-8d1f38646957"
      },
      "execution_count": 68,
      "outputs": [
        {
          "output_type": "stream",
          "name": "stdout",
          "text": [
            " * sqlite://\n",
            "Done.\n"
          ]
        },
        {
          "output_type": "execute_result",
          "data": {
            "text/plain": [
              "[('Mombasa', 1, 3),\n",
              " ('Nairobi', 4, 2),\n",
              " ('Nakuru', 1, 2),\n",
              " ('Taita Taveta', 1, 0),\n",
              " ('Turkana', 1, 0)]"
            ],
            "text/html": [
              "<table>\n",
              "    <thead>\n",
              "        <tr>\n",
              "            <th>secondary_school_county</th>\n",
              "            <th>male_student_count</th>\n",
              "            <th>female_student_count</th>\n",
              "        </tr>\n",
              "    </thead>\n",
              "    <tbody>\n",
              "        <tr>\n",
              "            <td>Mombasa</td>\n",
              "            <td>1</td>\n",
              "            <td>3</td>\n",
              "        </tr>\n",
              "        <tr>\n",
              "            <td>Nairobi</td>\n",
              "            <td>4</td>\n",
              "            <td>2</td>\n",
              "        </tr>\n",
              "        <tr>\n",
              "            <td>Nakuru</td>\n",
              "            <td>1</td>\n",
              "            <td>2</td>\n",
              "        </tr>\n",
              "        <tr>\n",
              "            <td>Taita Taveta</td>\n",
              "            <td>1</td>\n",
              "            <td>0</td>\n",
              "        </tr>\n",
              "        <tr>\n",
              "            <td>Turkana</td>\n",
              "            <td>1</td>\n",
              "            <td>0</td>\n",
              "        </tr>\n",
              "    </tbody>\n",
              "</table>"
            ]
          },
          "metadata": {},
          "execution_count": 68
        }
      ]
    },
    {
      "cell_type": "markdown",
      "source": [
        "Get the percentage of students who set their next_of_kin as Mother vs those that set it as Father1. (kin_percentage)"
      ],
      "metadata": {
        "id": "zeJMQiN1TEkr"
      }
    },
    {
      "cell_type": "code",
      "source": [
        "%%sql ALTER TABLE personal_details\n",
        "ADD COLUMN next_of_kin VARCHAR(50);\n"
      ],
      "metadata": {
        "colab": {
          "base_uri": "https://localhost:8080/"
        },
        "id": "HwRmBsQ0TvJR",
        "outputId": "9c655dc9-cf7e-4203-d310-6672157bafc4"
      },
      "execution_count": 70,
      "outputs": [
        {
          "output_type": "stream",
          "name": "stdout",
          "text": [
            " * sqlite://\n",
            "Done.\n"
          ]
        },
        {
          "output_type": "execute_result",
          "data": {
            "text/plain": [
              "[]"
            ]
          },
          "metadata": {},
          "execution_count": 70
        }
      ]
    },
    {
      "cell_type": "code",
      "source": [
        "%%sql UPDATE personal_details\n",
        "SET next_of_kin = (\n",
        "    SELECT next_of_kin\n",
        "    FROM school_details\n",
        "    WHERE school_details.stud_ID = personal_details.stud_ID\n",
        ");\n"
      ],
      "metadata": {
        "colab": {
          "base_uri": "https://localhost:8080/"
        },
        "id": "F_RjbnJHTvWz",
        "outputId": "ce05b9a1-61ac-43b8-a106-eb17942330dc"
      },
      "execution_count": 71,
      "outputs": [
        {
          "output_type": "stream",
          "name": "stdout",
          "text": [
            " * sqlite://\n",
            "15 rows affected.\n"
          ]
        },
        {
          "output_type": "execute_result",
          "data": {
            "text/plain": [
              "[]"
            ]
          },
          "metadata": {},
          "execution_count": 71
        }
      ]
    },
    {
      "cell_type": "code",
      "source": [
        "%%sql SELECT\n",
        "    (CAST(mother_count AS FLOAT) / total_count) * 100 AS mother_percentage,\n",
        "    (CAST(father_count AS FLOAT) / total_count) * 100 AS father_percentage\n",
        "FROM\n",
        "    (SELECT\n",
        "        COUNT(CASE WHEN next_of_kin = 'Mother' THEN 1 END) AS mother_count,\n",
        "        COUNT(CASE WHEN next_of_kin = 'Father' THEN 1 END) AS father_count,\n",
        "        COUNT(*) AS total_count\n",
        "    FROM\n",
        "        personal_details) AS counts;\n"
      ],
      "metadata": {
        "colab": {
          "base_uri": "https://localhost:8080/",
          "height": 98
        },
        "id": "zJzm1tsrT69O",
        "outputId": "b7e2141f-e98b-4067-a1f6-d089a16b84ff"
      },
      "execution_count": 72,
      "outputs": [
        {
          "output_type": "stream",
          "name": "stdout",
          "text": [
            " * sqlite://\n",
            "Done.\n"
          ]
        },
        {
          "output_type": "execute_result",
          "data": {
            "text/plain": [
              "[(0.0, 0.0)]"
            ],
            "text/html": [
              "<table>\n",
              "    <thead>\n",
              "        <tr>\n",
              "            <th>mother_percentage</th>\n",
              "            <th>father_percentage</th>\n",
              "        </tr>\n",
              "    </thead>\n",
              "    <tbody>\n",
              "        <tr>\n",
              "            <td>0.0</td>\n",
              "            <td>0.0</td>\n",
              "        </tr>\n",
              "    </tbody>\n",
              "</table>"
            ]
          },
          "metadata": {},
          "execution_count": 72
        }
      ]
    },
    {
      "cell_type": "markdown",
      "source": [
        "Create a table with all the details from contacts to school and financial details (full_stud_details)"
      ],
      "metadata": {
        "id": "2He1OB-Cg5Bl"
      }
    },
    {
      "cell_type": "code",
      "source": [
        "%%sql CREATE TABLE full_stud_details AS\n",
        "SELECT\n",
        "    pd.national_ID,\n",
        "    pd.stud_ID,\n",
        "    pd.stud_name,\n",
        "    pd.phone_number,\n",
        "    pd.age,\n",
        "    pd.gender,\n",
        "    sd.current_home_county,\n",
        "    sd.secondary_school_county,\n",
        "    sd.residence,\n",
        "    cd.next_of_kin_name,\n",
        "    cd.next_of_kin_relation,\n",
        "    cd.next_of_kin_contacts,\n",
        "    fd.sem_fee,\n",
        "    fd.fee_paid\n",
        "FROM\n",
        "    personal_details pd\n",
        "JOIN\n",
        "    school_details sd ON pd.stud_ID = sd.stud_ID\n",
        "JOIN\n",
        "    contact_details cd ON pd.phone_number = cd.phone_number\n",
        "JOIN\n",
        "    financial_details fd ON pd.stud_ID = fd.stud_ID;\n"
      ],
      "metadata": {
        "colab": {
          "base_uri": "https://localhost:8080/"
        },
        "id": "og1ft-IkT7Pf",
        "outputId": "c6bab1d2-e267-41cc-82de-8332a373f376"
      },
      "execution_count": 73,
      "outputs": [
        {
          "output_type": "stream",
          "name": "stdout",
          "text": [
            " * sqlite://\n",
            "Done.\n"
          ]
        },
        {
          "output_type": "execute_result",
          "data": {
            "text/plain": [
              "[]"
            ]
          },
          "metadata": {},
          "execution_count": 73
        }
      ]
    }
  ],
  "metadata": {
    "colab": {
      "provenance": []
    },
    "kernelspec": {
      "display_name": "Python 3",
      "name": "python3"
    },
    "language_info": {
      "name": "python"
    }
  },
  "nbformat": 4,
  "nbformat_minor": 0
}